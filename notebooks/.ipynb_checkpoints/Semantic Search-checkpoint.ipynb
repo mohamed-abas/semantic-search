{
 "cells": [
  {
   "cell_type": "markdown",
   "id": "d4d091b5",
   "metadata": {},
   "source": [
    "## Semantic Search"
   ]
  },
  {
   "cell_type": "markdown",
   "id": "ef56ea80",
   "metadata": {},
   "source": [
    "### Imports"
   ]
  },
  {
   "cell_type": "code",
   "execution_count": 18,
   "id": "de835d09",
   "metadata": {},
   "outputs": [],
   "source": [
    "from sentence_transformers import SentenceTransformer, util\n",
    "import pickle\n",
    "import pandas as pd \n",
    "import torch\n",
    "import time\n",
    "import faiss\n",
    "import numpy as np"
   ]
  },
  {
   "cell_type": "markdown",
   "id": "241d9f88",
   "metadata": {},
   "source": [
    "### Embbeding Using MPNet version2"
   ]
  },
  {
   "cell_type": "code",
   "execution_count": 3,
   "id": "4d902a2b",
   "metadata": {},
   "outputs": [
    {
     "data": {
      "text/html": [
       "<div>\n",
       "<style scoped>\n",
       "    .dataframe tbody tr th:only-of-type {\n",
       "        vertical-align: middle;\n",
       "    }\n",
       "\n",
       "    .dataframe tbody tr th {\n",
       "        vertical-align: top;\n",
       "    }\n",
       "\n",
       "    .dataframe thead th {\n",
       "        text-align: right;\n",
       "    }\n",
       "</style>\n",
       "<table border=\"1\" class=\"dataframe\">\n",
       "  <thead>\n",
       "    <tr style=\"text-align: right;\">\n",
       "      <th></th>\n",
       "      <th>ID</th>\n",
       "      <th>TITLE</th>\n",
       "      <th>ABSTRACT</th>\n",
       "      <th>Computer Science</th>\n",
       "      <th>Physics</th>\n",
       "      <th>Mathematics</th>\n",
       "      <th>Statistics</th>\n",
       "      <th>Quantitative Biology</th>\n",
       "      <th>Quantitative Finance</th>\n",
       "    </tr>\n",
       "  </thead>\n",
       "  <tbody>\n",
       "    <tr>\n",
       "      <th>0</th>\n",
       "      <td>1</td>\n",
       "      <td>Reconstructing Subject-Specific Effect Maps</td>\n",
       "      <td>Predictive models allow subject-specific inf...</td>\n",
       "      <td>1</td>\n",
       "      <td>0</td>\n",
       "      <td>0</td>\n",
       "      <td>0</td>\n",
       "      <td>0</td>\n",
       "      <td>0</td>\n",
       "    </tr>\n",
       "    <tr>\n",
       "      <th>1</th>\n",
       "      <td>2</td>\n",
       "      <td>Rotation Invariance Neural Network</td>\n",
       "      <td>Rotation invariance and translation invarian...</td>\n",
       "      <td>1</td>\n",
       "      <td>0</td>\n",
       "      <td>0</td>\n",
       "      <td>0</td>\n",
       "      <td>0</td>\n",
       "      <td>0</td>\n",
       "    </tr>\n",
       "    <tr>\n",
       "      <th>2</th>\n",
       "      <td>3</td>\n",
       "      <td>Spherical polyharmonics and Poisson kernels fo...</td>\n",
       "      <td>We introduce and develop the notion of spher...</td>\n",
       "      <td>0</td>\n",
       "      <td>0</td>\n",
       "      <td>1</td>\n",
       "      <td>0</td>\n",
       "      <td>0</td>\n",
       "      <td>0</td>\n",
       "    </tr>\n",
       "    <tr>\n",
       "      <th>3</th>\n",
       "      <td>4</td>\n",
       "      <td>A finite element approximation for the stochas...</td>\n",
       "      <td>The stochastic Landau--Lifshitz--Gilbert (LL...</td>\n",
       "      <td>0</td>\n",
       "      <td>0</td>\n",
       "      <td>1</td>\n",
       "      <td>0</td>\n",
       "      <td>0</td>\n",
       "      <td>0</td>\n",
       "    </tr>\n",
       "    <tr>\n",
       "      <th>4</th>\n",
       "      <td>5</td>\n",
       "      <td>Comparative study of Discrete Wavelet Transfor...</td>\n",
       "      <td>Fourier-transform infra-red (FTIR) spectra o...</td>\n",
       "      <td>1</td>\n",
       "      <td>0</td>\n",
       "      <td>0</td>\n",
       "      <td>1</td>\n",
       "      <td>0</td>\n",
       "      <td>0</td>\n",
       "    </tr>\n",
       "  </tbody>\n",
       "</table>\n",
       "</div>"
      ],
      "text/plain": [
       "   ID                                              TITLE  \\\n",
       "0   1        Reconstructing Subject-Specific Effect Maps   \n",
       "1   2                 Rotation Invariance Neural Network   \n",
       "2   3  Spherical polyharmonics and Poisson kernels fo...   \n",
       "3   4  A finite element approximation for the stochas...   \n",
       "4   5  Comparative study of Discrete Wavelet Transfor...   \n",
       "\n",
       "                                            ABSTRACT  Computer Science  \\\n",
       "0    Predictive models allow subject-specific inf...                 1   \n",
       "1    Rotation invariance and translation invarian...                 1   \n",
       "2    We introduce and develop the notion of spher...                 0   \n",
       "3    The stochastic Landau--Lifshitz--Gilbert (LL...                 0   \n",
       "4    Fourier-transform infra-red (FTIR) spectra o...                 1   \n",
       "\n",
       "   Physics  Mathematics  Statistics  Quantitative Biology  \\\n",
       "0        0            0           0                     0   \n",
       "1        0            0           0                     0   \n",
       "2        0            1           0                     0   \n",
       "3        0            1           0                     0   \n",
       "4        0            0           1                     0   \n",
       "\n",
       "   Quantitative Finance  \n",
       "0                     0  \n",
       "1                     0  \n",
       "2                     0  \n",
       "3                     0  \n",
       "4                     0  "
      ]
     },
     "execution_count": 3,
     "metadata": {},
     "output_type": "execute_result"
    }
   ],
   "source": [
    "# Using articles data from kaggle\n",
    "df = pd.read_csv('../data/train.csv', delimiter=',', nrows = None)\n",
    "df.head()"
   ]
  },
  {
   "cell_type": "code",
   "execution_count": 4,
   "id": "6bd0276d",
   "metadata": {},
   "outputs": [
    {
     "data": {
      "text/html": [
       "<div>\n",
       "<style scoped>\n",
       "    .dataframe tbody tr th:only-of-type {\n",
       "        vertical-align: middle;\n",
       "    }\n",
       "\n",
       "    .dataframe tbody tr th {\n",
       "        vertical-align: top;\n",
       "    }\n",
       "\n",
       "    .dataframe thead th {\n",
       "        text-align: right;\n",
       "    }\n",
       "</style>\n",
       "<table border=\"1\" class=\"dataframe\">\n",
       "  <thead>\n",
       "    <tr style=\"text-align: right;\">\n",
       "      <th></th>\n",
       "      <th>TITLE</th>\n",
       "      <th>ABSTRACT</th>\n",
       "    </tr>\n",
       "  </thead>\n",
       "  <tbody>\n",
       "    <tr>\n",
       "      <th>0</th>\n",
       "      <td>Reconstructing Subject-Specific Effect Maps</td>\n",
       "      <td>Predictive models allow subject-specific inf...</td>\n",
       "    </tr>\n",
       "    <tr>\n",
       "      <th>1</th>\n",
       "      <td>Rotation Invariance Neural Network</td>\n",
       "      <td>Rotation invariance and translation invarian...</td>\n",
       "    </tr>\n",
       "    <tr>\n",
       "      <th>2</th>\n",
       "      <td>Spherical polyharmonics and Poisson kernels fo...</td>\n",
       "      <td>We introduce and develop the notion of spher...</td>\n",
       "    </tr>\n",
       "    <tr>\n",
       "      <th>3</th>\n",
       "      <td>A finite element approximation for the stochas...</td>\n",
       "      <td>The stochastic Landau--Lifshitz--Gilbert (LL...</td>\n",
       "    </tr>\n",
       "    <tr>\n",
       "      <th>4</th>\n",
       "      <td>Comparative study of Discrete Wavelet Transfor...</td>\n",
       "      <td>Fourier-transform infra-red (FTIR) spectra o...</td>\n",
       "    </tr>\n",
       "  </tbody>\n",
       "</table>\n",
       "</div>"
      ],
      "text/plain": [
       "                                               TITLE  \\\n",
       "0        Reconstructing Subject-Specific Effect Maps   \n",
       "1                 Rotation Invariance Neural Network   \n",
       "2  Spherical polyharmonics and Poisson kernels fo...   \n",
       "3  A finite element approximation for the stochas...   \n",
       "4  Comparative study of Discrete Wavelet Transfor...   \n",
       "\n",
       "                                            ABSTRACT  \n",
       "0    Predictive models allow subject-specific inf...  \n",
       "1    Rotation invariance and translation invarian...  \n",
       "2    We introduce and develop the notion of spher...  \n",
       "3    The stochastic Landau--Lifshitz--Gilbert (LL...  \n",
       "4    Fourier-transform infra-red (FTIR) spectra o...  "
      ]
     },
     "execution_count": 4,
     "metadata": {},
     "output_type": "execute_result"
    }
   ],
   "source": [
    "# since i am only intereseted in abstract search i will remove classification columns\n",
    "df = df[['TITLE', 'ABSTRACT']]\n",
    "df.head()"
   ]
  },
  {
   "cell_type": "code",
   "execution_count": 5,
   "id": "eecf58d5",
   "metadata": {},
   "outputs": [
    {
     "data": {
      "text/plain": [
       "(20972, 2)"
      ]
     },
     "execution_count": 5,
     "metadata": {},
     "output_type": "execute_result"
    }
   ],
   "source": [
    "df.shape\n",
    "# 20972 articles"
   ]
  },
  {
   "cell_type": "code",
   "execution_count": 6,
   "id": "a32dc9ff",
   "metadata": {},
   "outputs": [
    {
     "data": {
      "application/vnd.jupyter.widget-view+json": {
       "model_id": "754b6a289d334639a90c13508635e2d4",
       "version_major": 2,
       "version_minor": 0
      },
      "text/plain": [
       "Downloading (…)a8e1d/.gitattributes:   0%|          | 0.00/1.18k [00:00<?, ?B/s]"
      ]
     },
     "metadata": {},
     "output_type": "display_data"
    },
    {
     "data": {
      "application/vnd.jupyter.widget-view+json": {
       "model_id": "8d3e2b04d97249049828daa6058335d6",
       "version_major": 2,
       "version_minor": 0
      },
      "text/plain": [
       "Downloading (…)_Pooling/config.json:   0%|          | 0.00/190 [00:00<?, ?B/s]"
      ]
     },
     "metadata": {},
     "output_type": "display_data"
    },
    {
     "data": {
      "application/vnd.jupyter.widget-view+json": {
       "model_id": "8bd78a23b1ad4201afdeea1639dfe3b5",
       "version_major": 2,
       "version_minor": 0
      },
      "text/plain": [
       "Downloading (…)b20bca8e1d/README.md:   0%|          | 0.00/10.6k [00:00<?, ?B/s]"
      ]
     },
     "metadata": {},
     "output_type": "display_data"
    },
    {
     "data": {
      "application/vnd.jupyter.widget-view+json": {
       "model_id": "38d08dde287d4f1696d1b4fdf9516b67",
       "version_major": 2,
       "version_minor": 0
      },
      "text/plain": [
       "Downloading (…)0bca8e1d/config.json:   0%|          | 0.00/571 [00:00<?, ?B/s]"
      ]
     },
     "metadata": {},
     "output_type": "display_data"
    },
    {
     "data": {
      "application/vnd.jupyter.widget-view+json": {
       "model_id": "2f2fa82e48744f0a8f1010b973406bba",
       "version_major": 2,
       "version_minor": 0
      },
      "text/plain": [
       "Downloading (…)ce_transformers.json:   0%|          | 0.00/116 [00:00<?, ?B/s]"
      ]
     },
     "metadata": {},
     "output_type": "display_data"
    },
    {
     "data": {
      "application/vnd.jupyter.widget-view+json": {
       "model_id": "bd8afd60388946ba812eaca6840ffb5d",
       "version_major": 2,
       "version_minor": 0
      },
      "text/plain": [
       "Downloading (…)e1d/data_config.json:   0%|          | 0.00/39.3k [00:00<?, ?B/s]"
      ]
     },
     "metadata": {},
     "output_type": "display_data"
    },
    {
     "data": {
      "application/vnd.jupyter.widget-view+json": {
       "model_id": "fe88330c19454142a732419ee8b4c938",
       "version_major": 2,
       "version_minor": 0
      },
      "text/plain": [
       "Downloading pytorch_model.bin:   0%|          | 0.00/438M [00:00<?, ?B/s]"
      ]
     },
     "metadata": {},
     "output_type": "display_data"
    },
    {
     "data": {
      "application/vnd.jupyter.widget-view+json": {
       "model_id": "777837cd7f3043969c7b1a6cc20d86b9",
       "version_major": 2,
       "version_minor": 0
      },
      "text/plain": [
       "Downloading (…)nce_bert_config.json:   0%|          | 0.00/53.0 [00:00<?, ?B/s]"
      ]
     },
     "metadata": {},
     "output_type": "display_data"
    },
    {
     "data": {
      "application/vnd.jupyter.widget-view+json": {
       "model_id": "5e21ccd05c064effa555bcb7f7bc7393",
       "version_major": 2,
       "version_minor": 0
      },
      "text/plain": [
       "Downloading (…)cial_tokens_map.json:   0%|          | 0.00/239 [00:00<?, ?B/s]"
      ]
     },
     "metadata": {},
     "output_type": "display_data"
    },
    {
     "data": {
      "application/vnd.jupyter.widget-view+json": {
       "model_id": "cfce4190cae749149dc804b613fad57c",
       "version_major": 2,
       "version_minor": 0
      },
      "text/plain": [
       "Downloading (…)a8e1d/tokenizer.json:   0%|          | 0.00/466k [00:00<?, ?B/s]"
      ]
     },
     "metadata": {},
     "output_type": "display_data"
    },
    {
     "data": {
      "application/vnd.jupyter.widget-view+json": {
       "model_id": "6d035eb6e70d4b9db72a04785c6a1c28",
       "version_major": 2,
       "version_minor": 0
      },
      "text/plain": [
       "Downloading (…)okenizer_config.json:   0%|          | 0.00/363 [00:00<?, ?B/s]"
      ]
     },
     "metadata": {},
     "output_type": "display_data"
    },
    {
     "data": {
      "application/vnd.jupyter.widget-view+json": {
       "model_id": "20b70a7fbfc94038983572611cb9c151",
       "version_major": 2,
       "version_minor": 0
      },
      "text/plain": [
       "Downloading (…)8e1d/train_script.py:   0%|          | 0.00/13.1k [00:00<?, ?B/s]"
      ]
     },
     "metadata": {},
     "output_type": "display_data"
    },
    {
     "data": {
      "application/vnd.jupyter.widget-view+json": {
       "model_id": "f3af48e3355943368af0f9940367487b",
       "version_major": 2,
       "version_minor": 0
      },
      "text/plain": [
       "Downloading (…)b20bca8e1d/vocab.txt:   0%|          | 0.00/232k [00:00<?, ?B/s]"
      ]
     },
     "metadata": {},
     "output_type": "display_data"
    },
    {
     "data": {
      "application/vnd.jupyter.widget-view+json": {
       "model_id": "7099e6d33c7340c281d918a2096f363f",
       "version_major": 2,
       "version_minor": 0
      },
      "text/plain": [
       "Downloading (…)bca8e1d/modules.json:   0%|          | 0.00/349 [00:00<?, ?B/s]"
      ]
     },
     "metadata": {},
     "output_type": "display_data"
    },
    {
     "data": {
      "application/vnd.jupyter.widget-view+json": {
       "model_id": "921b29d7fb084546b1fc918e075b6688",
       "version_major": 2,
       "version_minor": 0
      },
      "text/plain": [
       "Batches:   0%|          | 0/164 [00:00<?, ?it/s]"
      ]
     },
     "metadata": {},
     "output_type": "display_data"
    }
   ],
   "source": [
    "embedder = SentenceTransformer('all-mpnet-base-v2')\n",
    "corpus = df.ABSTRACT.values.tolist()\n",
    "corpus_embeddings = embedder.encode(corpus, batch_size = 128, convert_to_tensor=True, show_progress_bar = True)"
   ]
  },
  {
   "cell_type": "code",
   "execution_count": 7,
   "id": "f545f3a9",
   "metadata": {},
   "outputs": [],
   "source": [
    "# save embedding file\n",
    "with open('../embbeding/embed_articles.pkl', \"wb\") as fOut:\n",
    "        pickle.dump({'sentences': corpus, 'embeddings': corpus_embeddings}, fOut)"
   ]
  },
  {
   "cell_type": "markdown",
   "id": "881c0b53",
   "metadata": {},
   "source": [
    "## load the embedding file"
   ]
  },
  {
   "cell_type": "code",
   "execution_count": 11,
   "id": "6045504b",
   "metadata": {},
   "outputs": [],
   "source": [
    "embedder = SentenceTransformer('all-mpnet-base-v2')\n",
    "with open('../embbeding/embed_articles.pkl','rb') as fIn:\n",
    "    cache_data = pickle.load(fIn)\n",
    "    corpus_sentences = cache_data['sentences']\n",
    "    corpus_embeddings = cache_data['embeddings']"
   ]
  },
  {
   "cell_type": "markdown",
   "id": "547db7dd",
   "metadata": {},
   "source": [
    "### try normal search"
   ]
  },
  {
   "cell_type": "code",
   "execution_count": 12,
   "id": "964b56c0",
   "metadata": {},
   "outputs": [
    {
     "name": "stdout",
     "output_type": "stream",
     "text": [
      "0.26569509506225586\n"
     ]
    }
   ],
   "source": [
    "queries = ['Spherical polyharmonics']\n",
    "start_time = time.time()\n",
    "\n",
    "# Find the closest 60 sentences of the corpus for each query sentence based on cosine similarity\n",
    "top_k = min(60, len(corpus_sentences))\n",
    "results = dict()\n",
    "for query in queries:\n",
    "    query_embedding = embedder.encode(query, convert_to_tensor=True)\n",
    "    # We use cosine-similarity and torch.topk to find the highest scores\n",
    "    cos_scores = util.cos_sim(query_embedding, corpus_embeddings)[0]\n",
    "    top_results = torch.topk(cos_scores, k=top_k)\n",
    "    i = 0\n",
    "for score, idx in zip(top_results[0], top_results[1]):\n",
    "    i = i+1\n",
    "    results[i] = (corpus_sentences[idx],score.item()) \n",
    "\n",
    "end_time = time.time() \n",
    "frst_method = end_time-start_time\n",
    "print(frst_method) "
   ]
  },
  {
   "cell_type": "code",
   "execution_count": 13,
   "id": "8a91e8ca",
   "metadata": {},
   "outputs": [
    {
     "data": {
      "text/plain": [
       "{1: ('  We introduce and develop the notion of spherical polyharmonics, which are a\\nnatural generalisation of spherical harmonics. In particular we study the\\ntheory of zonal polyharmonics, which allows us, analogously to zonal harmonics,\\nto construct Poisson kernels for polyharmonic functions on the union of rotated\\nballs. We find the representation of Poisson kernels and zonal polyharmonics in\\nterms of the Gegenbauer polynomials. We show the connection between the\\nclassical Poisson kernel for harmonic functions on the ball, Poisson kernels\\nfor polyharmonic functions on the union of rotated balls, and the Cauchy-Hua\\nkernel for holomorphic functions on the Lie ball.\\n',\n",
       "  0.7102088332176208),\n",
       " 2: ('  We present a family of mutually orthogonal polynomials on the unit ball with\\nrespect to an inner product which includes a mass uniformly distributed on the\\nsphere. First, connection formulas relating these multivariate orthogonal\\npolynomials and the classical ball polynomials are obtained. Then, using the\\nrepresentation formula for these polynomials in terms of spherical harmonics\\nanalytic properties will be deduced. Finally, we analyze the asymptotic\\nbehaviour of the Christoffel functions.\\n',\n",
       "  0.5145870447158813),\n",
       " 3: ('  In this paper we analyze the capacitary potential due to a charged body in\\norder to deduce sharp analytic and geometric inequalities, whose equality cases\\nare saturated by domains with spherical symmetry. In particular, for a regular\\nbounded domain $\\\\Omega \\\\subset \\\\mathbb{R}^n$, $n\\\\geq 3$, we prove that if the\\nmean curvature $H$ of the boundary obeys the condition $$ - \\\\bigg[\\n\\\\frac{1}{\\\\text{Cap}(\\\\Omega)} \\\\bigg]^{\\\\frac{1}{n-2}} \\\\leq \\\\frac{H}{n-1} \\\\leq\\n\\\\bigg[ \\\\frac{1}{\\\\text{Cap}(\\\\Omega)} \\\\bigg]^{\\\\frac{1}{n-2}} , $$ then $\\\\Omega$\\nis a round ball.\\n',\n",
       "  0.4961283802986145),\n",
       " 4: ('  In this article, a novel analytical approach is presented for the analysis of\\nelectromagnetic (EM) scattering from radially inhomogeneous spherical\\nstructures (RISSs) based on the duality principle. According to the spherical\\nsymmetry, similar angular dependencies in all the regions are considered using\\nspherical harmonics. To extract the radial dependency, the system of\\ndifferential equations of wave propagation toward the inhomogeneity direction\\nis equated with the dual planar ones. A general duality between electromagnetic\\nfields and parameters and scattering parameters of the two structures is\\nintroduced. The validity of the proposed approach is verified through a\\ncomprehensive example. The presented approach substitutes a complicated problem\\nin spherical coordinate to an easy, well posed, and a previously solved problem\\nin planar geometry. This approach is valid for all continuously varying\\ninhomogeneity profiles. One of the major advantages of the proposed method is\\nthe capability of studying two general and applicable types of RISSs. As an\\ninteresting application, a new class of lens antenna based on the physical\\nconcept of the gradient refractive index material is introduced. The approach\\nis used to analyze the EM scattering from the structure and validate strong\\nperformance of the lens.\\n',\n",
       "  0.48357048630714417),\n",
       " 5: (\"  Stationary stellar systems with radially elongated orbits are subject to\\nradial orbit instability -- an important phenomenon that structures galaxies.\\nAntonov (1973) presented a formal proof of the instability for spherical\\nsystems in the limit of purely radial orbits. However, such spheres have highly\\ninhomogeneous density distributions with singularity $\\\\sim 1/r^2$, resulting in\\nan inconsistency in the proof. The proof can be refined, if one considers an\\norbital distribution close to purely radial, but not entirely radial, which\\nallows to avoid the central singularity. For this purpose we employ\\nnon-singular analogs of generalised polytropes elaborated recently in our work\\nin order to derive and solve new integral equations adopted for calculation of\\nunstable eigenmodes in systems with nearly radial orbits. In addition, we\\nestablish a link between our and Antonov's approaches and uncover the meaning\\nof infinite entities in the purely radial case. Maximum growth rates tend to\\ninfinity as the system becomes more and more radially anisotropic. The\\ninstability takes place both for even and odd spherical harmonics, with all\\nunstable modes developing rapidly, i.e. having eigenfrequencies comparable to\\nor greater than typical orbital frequencies. This invalidates orbital\\napproximation in the case of systems with all orbits very close to purely\\nradial.\\n\",\n",
       "  0.47578519582748413),\n",
       " 6: ('  We propose and analyze an efficient spectral-Galerkin approximation for the\\nMaxwell transmission eigenvalue problem in spherical geometry. Using a vector\\nspherical harmonic expansion, we reduce the problem to a sequence of equivalent\\none-dimensional TE and TM modes that can be solved individually in parallel.\\nFor the TE mode, we derive associated generalized eigenvalue problems and\\ncorresponding pole conditions. Then we introduce weighted Sobolev spaces based\\non the pole condition and prove error estimates for the generalized eigenvalue\\nproblem. The TM mode is a coupled system with four unknown functions, which is\\nchallenging for numerical calculation. To handle it, we design an effective\\nalgorithm using Legendre-type vector basis functions. Finally, we provide some\\nnumerical experiments to validate our theoretical results and demonstrate the\\nefficiency of the algorithms.\\n',\n",
       "  0.45715969800949097),\n",
       " 7: ('  Fourier analysis and representation of circular distributions in terms of\\ntheir Fourier coefficients, is quite commonly discussed and used for model-free\\ninference such as testing uniformity and symmetry etc. in dealing with\\n2-dimensional directions. However a similar discussion for spherical\\ndistributions, which are used to model 3-dimensional directional data, has not\\nbeen fully developed in the literature in terms of their harmonics. This paper,\\nin what we believe is the first such attempt, looks at the probability\\ndistributions on a unit sphere, through the perspective of spherical harmonics,\\nanalogous to the Fourier analysis for distributions on a unit circle. Harmonic\\nrepresentations of many currently used spherical models are presented and\\ndiscussed. A very general family of spherical distributions is then introduced,\\nspecial cases of which yield many known spherical models. Through the prism of\\nharmonic analysis, one can look at the mean direction, dispersion, and various\\nforms of symmetry for these models in a generic setting. Aspects of\\ndistribution free inference such as estimation and large-sample tests for these\\nsymmetries, are provided. The paper concludes with a real-data example\\nanalyzing the longitudinal sunspot activity.\\n',\n",
       "  0.4517744183540344),\n",
       " 8: ('  We consider plasmon resonances and cloaking for the elastostatic system in\\n$\\\\mathbb{R}^3$ via the spectral theory of Neumann-Poincaré operator. We first\\nderive the full spectral properties of the Neumann-Poincaré operator for the\\n3D elastostatic system in the spherical geometry. The spectral result is of\\nsignificant interest for its own sake, and serves as a highly nontrivial\\nextension of the corresponding 2D study in [8]. The derivation of the spectral\\nresult in 3D involves much more complicated and subtle calculations and\\narguments than that for the 2D case. Then we consider a 3D plasmonic structure\\nin elastostatics which takes a general core-shell-matrix form with the\\nmetamaterial located in the shell. Using the obtained spectral result, we\\nprovide an accurate characterisation of the anomalous localised resonance and\\ncloaking associated to such a plasmonic structure.\\n',\n",
       "  0.450863242149353),\n",
       " 9: ('  We demonstrate that photonic and phononic crystals consisting of closely\\nspaced inclusions constitute a versatile class of subwavelength metamaterials.\\nIntuitively, the voids and narrow gaps that characterise the crystal form an\\ninterconnected network of Helmholtz-like resonators. We use this intuition to\\nargue that these continuous photonic (phononic) crystals are in fact\\nasymptotically equivalent, at low frequencies, to discrete capacitor-inductor\\n(mass-spring) networks whose lumped parameters we derive explicitly. The\\ncrystals are tantamount to metamaterials as their entire acoustic branch, or\\nbranches when the discrete analogue is polyatomic, is squeezed into a\\nsubwavelength regime where the ratio of wavelength to period scales like the\\nratio of period to gap width raised to the power 1/4; at yet larger wavelengths\\nwe accordingly find a comparably large effective refractive index. The fully\\nanalytical dispersion relations predicted by the discrete models yield\\ndispersion curves that agree with those from finite-element simulations of the\\ncontinuous crystals. The insight gained from the network approach is used to\\nshow that, surprisingly, the continuum created by a closely packed hexagonal\\nlattice of cylinders is represented by a discrete honeycomb lattice. The\\nanalogy is utilised to show that the hexagonal continuum lattice has a\\nDirac-point degeneracy that is lifted in a controlled manner by specifying the\\narea of a symmetry-breaking defect.\\n',\n",
       "  0.44730955362319946),\n",
       " 10: ('  Alternative expressions for calculating the oblate spheroidal radial\\nfunctions of both kinds R1ml and R2ml are shown to provide accurate values over\\nvery large parameter ranges using 64 bit arithmetic, even where the traditional\\nexpressions fail. First is the expansion of the product of a radial function\\nand the angular function of the first kind in a series of products of the\\ncorresponding spherical functions, with the angular coordinate being a free\\nparameter. Setting the angular coordinate equal to zero leads to accurate\\nvalues for R2ml when the radial coordinate xi is larger than 0.01 and l is\\nsomewhat larger than m. Allowing it to vary with increasing l leads to highly\\naccurate values for R1ml over all parameter ranges. Next is the calculation of\\nR2ml as an integral of the product of S1ml and a spherical Neumann function\\nkernel. This is useful for smaller values of xi. Also used is the near equality\\nof pairs of low order eigenvalues when the size parameter c is large that leads\\nto accurate values for R2ml using neighboring accurate values for R1ml. A\\nmodified method is described that provides accurate values for the necessary\\nexpansion coefficients when c is large and l is near m and traditional methods\\nfail. A resulting Fortran computer program Oblfcn almost always provides radial\\nfunction values with at least 8 accurate decimal digits using 64 bit arithmetic\\nfor m up to at least 1000 with c up to at least 2000 when xi is greater than\\n0.000001 and c up to at least 5000 when xi is greater than 0.01. Use of 128 bit\\narithmetic extends the accuracy to 15 or more digits and extends xi to all\\nvalues other than zero. Oblfcn is freely available.\\n',\n",
       "  0.44330596923828125),\n",
       " 11: ('  In this work, we extend the solid harmonics derivation, which was used by\\nAckroyd et al to derive the steady-state SP$_N$ equations, to transient\\nproblems. The derivation expands the angular flux in ordinary surface harmonics\\nbut uses harmonic polynomials to generate additional surface spherical harmonic\\nterms to be used in Galerkin projection. The derivation shows the equivalence\\nbetween the SP$_N$ and the P$_N$ approximation. Also, we use the line source\\nproblem and McClarren\\'s \"box\" problem to demonstrate such equivalence\\nnumerically. Both problems were initially proposed for isotropic scattering,\\nbut here we add higher-order scattering moments to them. Results show that the\\ndifference between the SP$_N$ and P$_N$ scalar flux solution is at the roundoff\\nlevel.\\n',\n",
       "  0.4421260356903076),\n",
       " 12: ('  This paper deals with some simple results about spherical functions of type\\n$\\\\delta$, namely new integral formulas, new results about behavior at infinity\\nand some facts about the related $C_\\\\sigma$ functions.\\n',\n",
       "  0.42923736572265625),\n",
       " 13: ('  In the present article the classical problem of electromagnetic scattering by\\na single homogeneous sphere is revisited. Main focus is the study of the\\nscattering behavior as a function of the material contrast and the size\\nparameters for all electric and magnetic resonances of a dielectric sphere.\\nSpecifically, the Padé approximants are introduced and utilized as an\\nalternative system expansion of the Mie coefficients. Low order Padé\\napproximants can give compact and physically insightful expressions for the\\nscattering system and the enabled dynamic mechanisms. Higher order approximants\\nare used for predicting accurately the resonant pole spectrum. These results\\nare summarized into general pole formulae, covering up to fifth order magnetic\\nand forth order electric resonances of a small dielectric sphere. Additionally,\\nthe connection between the radiative damping process and the resonant linewidth\\nis investigated. The results obtained reveal the fundamental connection of the\\nradiative damping mechanism with the maximum width occurring for each\\nresonance. Finally, the suggested system ansatz is used for studying the\\nresonant absorption maximum through a circuit-inspired perspective.\\n',\n",
       "  0.4279191493988037),\n",
       " 14: ('  Using the Tridiagonal Representation Approach, we obtain solutions (energy\\nspectrum and corresponding wavefunctions) for a new five-parameter potential\\nbox with inverse square singularity at the boundaries.\\n',\n",
       "  0.4272632598876953),\n",
       " 15: ('  We consider the spherical mean generated by a multidimensional generalized\\ntranslation and general Euler-Poisson-Darboux equation corresponding to this\\nmean. The Asgeirsson property of solutions of the ultrahyperbolic equation that\\nincludes singular differential Bessel operators acting by each variable is\\nprovided.\\n',\n",
       "  0.4207238554954529),\n",
       " 16: (\"  We show that the solutions obtained in the paper `An exact solution for\\narbitrarily rotating gaseous polytropes with index unity' by Kong, Zhang, and\\nSchubert represent only approximate solutions of the free-boundary\\nEuler-Poisson system of equations describing uniformly rotating,\\nself-gravitating polytropes with index unity. We discuss the quality of such\\nsolutions as approximations to the rigidly rotating equilibrium polytropic\\nconfigurations.\\n\",\n",
       "  0.4180160462856293),\n",
       " 17: ('  New numerical solutions to the so-called selection problem for one and two\\nsteadily translating bubbles in an unbounded Hele-Shaw cell are presented. Our\\napproach relies on conformal mapping which, for the two-bubble problem,\\ninvolves the Schottky-Klein prime function associated with an annulus. We show\\nthat a countably infinite number of solutions exist for each fixed value of\\ndimensionless surface tension, with the bubble shapes becoming more exotic as\\nthe solution branch number increases. Our numerical results suggest that a\\nsingle solution is selected in the limit that surface tension vanishes, with\\nthe scaling between the bubble velocity and surface tension being different to\\nthe well-studied problems for a bubble or a finger propagating in a channel\\ngeometry.\\n',\n",
       "  0.41757503151893616),\n",
       " 18: ('  We find the form of the refractive index such that a solution, $S$, of the\\neikonal equation yields an exact solution, $\\\\exp ({\\\\rm i} k_{0} S)$, of the\\ncorresponding Helmholtz equation.\\n',\n",
       "  0.41635996103286743),\n",
       " 19: ('  We evaluate integrals of certain polynomials over spheres and balls in real\\nor complex spaces. We also promote the use of the Pochhammer symbol which gives\\nthe values of our integrals in compact forms.\\n',\n",
       "  0.41367679834365845),\n",
       " 20: ('  We investigate the impact of an external pressure on the structure of\\nself-gravitating polytropes for axially symmetric ellipsoids and rings. The\\nconfinement of the fluid by photons is accounted for through a boundary\\ncondition on the enthalpy $H$. Equilibrium configurations are determined\\nnumerically from a generalised \"Self-Consistent-Field\"-method. The new\\nalgorithm incorporates an intra-loop re-scaling operator ${\\\\cal R}(H)$, which\\nis essential for both convergence and getting self-normalised solutions. The\\nmain control parameter is the external-to-core enthalpy ratio. In the case of\\nuniform rotation rate and uniform surrounding pressure, we compute the mass,\\nthe volume, the rotation rate and the maximum enthalpy. This is repeated for a\\nfew polytropic indices $n$. For a given axis ratio, over-pressurization\\nglobally increases all output quantities, and this is more pronounced for large\\n$n$. Density profiles are flatter than in the absence of an external pressure.\\nWhen the control parameter asymptotically tends to unity, the fluid converges\\ntoward the incompressible solution, whatever the index, but becomes\\ngeometrically singular. Equilibrium sequences, obtained by varying the axis\\nratio, are built. States of critical rotation are greatly exceeded or even\\ndisappear. The same trends are observed with differential rotation. Finally,\\nthe typical response to a photon point source is presented. Strong irradiation\\nfavours sharp edges. Applications concern star forming regions and matter\\norbiting young stars and black holes.\\n',\n",
       "  0.40512171387672424),\n",
       " 21: ('  The real Scarf II potential is discussed as a radial problem. This potential\\nhas been studied extensively as a one-dimensional problem, and now these\\nresults are used to construct its bound and resonance solutions for $l=0$ by\\nsetting the origin at some arbitrary value of the coordinate. The solutions\\nwith appropriate boundary conditions are composed as the linear combination of\\nthe two independent solutions of the Schrödinger equation. The asymptotic\\nexpression of these solutions is used to construct the $S_0(k)$ s-wave\\n$S$-matrix, the poles of which supply the $k$ values corresponding to the\\nbound, resonance and anti-bound solutions. The location of the discrete energy\\neigenvalues is analyzed, and the relation of the solutions of the radial and\\none-dimensional Scarf II potentials is discussed. It is shown that the\\ngeneralized Woods--Saxon potential can be generated from the Rosen--Morse II\\npotential in the same way as the radial Scarf II potential is obtained from its\\none-dimensional correspondent. Based on this analogy, possible applications are\\nalso pointed out.\\n',\n",
       "  0.40087899565696716),\n",
       " 22: ('  We provide $L^p$-versus $L^\\\\infty$-bounds for eigenfunctions on a real\\nspherical space $Z$ of wavefront type. It is shown that these bounds imply a\\nnon-trivial error term estimate for lattice counting on $Z$. The paper also\\nserves as an introduction to geometric counting on spaces of the mentioned\\ntype. Section 7 on higher rank is new and extends the result from v1 to higher\\nrank. Final version. To appear in Acta Math. Sinica.\\n',\n",
       "  0.39742088317871094),\n",
       " 23: ('  We show that for any positive integer k, the k-th nonzero eigenvalue of the\\nLaplace-Beltrami operator on the two-dimensional sphere endowed with a\\nRiemannian metric of unit area, is maximized in the limit by a sequence of\\nmetrics converging to a union of k touching identical round spheres. This\\nproves a conjecture posed by the second author in 2002 and yields a sharp\\nisoperimetric inequality for all nonzero eigenvalues of the Laplacian on a\\nsphere. Earlier, the result was known only for k=1 (J.Hersch, 1970), k=2\\n(N.Nadirashvili, 2002; R.Petrides, 2014) and k=3 (N.Nadirashvili and Y.Sire,\\n2017). In particular, we argue that for any k>=2, the supremum of the k-th\\nnonzero eigenvalue on a sphere of unit area is not attained in the class of\\nRiemannin metrics which are smooth outsitde a finite set of conical\\nsingularities. The proof uses certain properties of harmonic maps between\\nspheres, the key new ingredient being a bound on the harmonic degree of a\\nharmonic map into a sphere obtained by N. Ejiri.\\n',\n",
       "  0.39340609312057495),\n",
       " 24: ('  A technique to levitate and measure the three-dimensional position of\\nmicrometer-sized dielectric spheres with heterodyne detection is presented. The\\ntwo radial degrees of freedom are measured by interfering light transmitted\\nthrough the microsphere with a reference wavefront, while the axial degree of\\nfreedom is measured from the phase of the light reflected from the surface of\\nthe microsphere. This method pairs the simplicity and accessibility of single\\nbeam optical traps to a measurement of displacement that is intrinsically\\ncalibrated by the wavelength of the trapping light and has exceptional immunity\\nto stray light. A theoretical shot noise limit of\\n$1.3\\\\times10^{-13}\\\\,\\\\text{m}/\\\\sqrt{\\\\text{Hz}}$ for the radial degrees of\\nfreedom, and $3.0\\\\times10^{-15} \\\\, \\\\text{m}/\\\\sqrt{\\\\text{Hz}}$ for the axial\\ndegree of freedom can be obtained in the system described. The measured\\nacceleration noise in the radial direction is $7.5\\\\times10^{-5} \\\\,\\n(\\\\text{m/s}^2)/\\\\sqrt{\\\\text{Hz}}$.\\n',\n",
       "  0.38914865255355835),\n",
       " 25: ('  We propose a new approach based on a local Hilbert transform to design\\nnon-Hermitian potentials generating arbitrary vector fields of directionality,\\np(r), with desired shapes and topologies. We derive a local Hilbert transform\\nto systematically build such potentials, by modifying background potentials\\n(being either regular or random, extended or localized). In particular, we\\nexplore particular directionality fields, for instance in the form of a focus\\nto create sinks for probe fields (which could help to increase absorption at\\nthe sink), or to generate vortices in the probe fields. Physically, the\\nproposed directionality fields provide a flexible new mechanism for dynamically\\nshaping and precise control over probe fields leading to novel effects in wave\\ndynamics.\\n',\n",
       "  0.3876267671585083),\n",
       " 26: ('  The aim of this paper is to show both analytically and numerically the\\nexistence of a subwavelength phononic bandgap in bubble phononic crystals. The\\nkey is an original formula for the quasi-periodic Minnaert resonance\\nfrequencies of an arbitrarily shaped bubble. The main findings in this paper\\nare illustrated with a variety of numerical experiments.\\n',\n",
       "  0.3871772587299347),\n",
       " 27: ('  We introduce the Nonlinear Cauchy-Riemann equations as Bäcklund\\ntransformations for several nonlinear and linear partial differential\\nequations. From these equations we treat in details the Laplace and the\\nLiouville equations by deriving general solution for the nonlinear Liouville\\nequation. By Möbius transformation we relate solutions for the Poincare\\nmodel of hyperbolic geometry, the Klein model in half-plane and the\\npseudo-sphere. Conformal form of the constant curvature metrics in these\\ngeometries, stereographic projections and special solutions are discussed. Then\\nwe introduce the hyperbolic analog of the Riemann sphere, which we call the\\nRiemann pseudosphere. We identify point at infinity on this pseudosphere and\\nshow that it can be used in complex analysis as an alternative to usual Riemann\\nsphere to extend the complex plane. Interpretation of symmetric and antipodal\\npoints on both, the Riemann sphere and the Riemann pseudo-sphere, are given. By\\nMöbius transformation and homogenous coordinates, the most general solution\\nof Liouville equation as discussed by Crowdy is derived.\\n',\n",
       "  0.3859676122665405),\n",
       " 28: ('  We investigate the inherent influence of light polarization on the intensity\\ndistribution in anisotropic media undergoing a local inhomogeneous rotation of\\nthe principal axes. Whereas in general such configuration implies a complicated\\ninteraction between geometric and dynamic phase, we show that, in a medium\\nshowing an inhomogeneous circular birefringence, the geometric phase vanishes.\\nDue to the spin-orbit interaction, the two circular polarizations perceive\\nreversed spatial distribution of the dynamic phase. Based upon this effect,\\npolarization-selective lens, waveguides and beam deflectors are proposed.\\n',\n",
       "  0.38593789935112),\n",
       " 29: ('  Conical functions appear in a large number of applications in physics and\\nengineering. In this paper we describe an extension of our module CONICAL for\\nthe computation of conical functions. Specifically, the module includes now a\\nroutine for computing the function ${\\\\rm R}^{m}_{-\\\\frac{1}{2}+i\\\\tau}(x)$, a\\nreal-valued numerically satisfactory companion of the function ${\\\\rm\\nP}^m_{-\\\\tfrac12+i\\\\tau}(x)$ for $x>1$. In this way, a natural basis for solving\\nDirichlet problems bounded by conical domains is provided.\\n',\n",
       "  0.38562047481536865),\n",
       " 30: ('  In the junction $\\\\Omega$ of several semi-infinite cylindrical waveguides we\\nconsider the Dirichlet Laplacian whose continuous spectrum is the ray\\n$[\\\\lambda_\\\\dagger, +\\\\infty)$ with a positive cut-off value $\\\\lambda_\\\\dagger$.\\nWe give two different criteria for the threshold resonance generated by\\nnontrivial bounded solutions to the Dirichlet problem for the Helmholtz\\nequation $-\\\\Delta u=\\\\lambda_\\\\dagger u$ in $\\\\Omega$. The first criterion is\\nquite simple and is convenient to disprove the existence of bounded solutions.\\nThe second criterion is rather involved but can help to detect concrete shapes\\nsupporting the resonance. Moreover, the latter distinguishes in a natural way\\nbetween stabilizing, i.e., bounded but non-descending solutions and trapped\\nmodes with exponential decay at infinity.\\n',\n",
       "  0.3855546712875366),\n",
       " 31: ('  Recent work by Cohen \\\\emph{et al.} has achieved state-of-the-art results for\\nlearning spherical images in a rotation invariant way by using ideas from group\\nrepresentation theory and noncommutative harmonic analysis. In this paper we\\npropose a generalization of this work that generally exhibits improved\\nperformace, but from an implementation point of view is actually simpler. An\\nunusual feature of the proposed architecture is that it uses the\\nClebsch--Gordan transform as its only source of nonlinearity, thus avoiding\\nrepeated forward and backward Fourier transforms. The underlying ideas of the\\npaper generalize to constructing neural networks that are invariant to the\\naction of other compact groups.\\n',\n",
       "  0.3828052878379822),\n",
       " 32: ('  This paper develops a Carleman type estimate for immersed surface in\\nEuclidean space at infinity. With this estimate, we obtain an unique\\ncontinuation property for harmonic functions on immersed surfaces vanishing at\\ninfinity, which leads to rigidity results in geometry.\\n',\n",
       "  0.38232725858688354),\n",
       " 33: ('  We introduce the notion of a \"crystallographic sphere packing,\" defined to be\\none whose limit set is that of a geometrically finite hyperbolic reflection\\ngroup in one higher dimension. We exhibit for the first time an infinite family\\nof conformally-inequivalent such with all radii being reciprocals of integers.\\nWe then prove a result in the opposite direction: the \"superintegral\" ones\\nexist only in finitely many \"commensurability classes,\" all in dimensions below\\n30.\\n',\n",
       "  0.3821605443954468),\n",
       " 34: ('  The Baran metric $\\\\delta_E$ is a Finsler metric on the interior of $E\\\\subset\\n\\\\R^n$ arising from Pluripotential Theory. We consider the few instances, namely\\n$E$ being the ball, the simplex, or the sphere, where $\\\\delta_E$ is known to be\\nRiemaniann and we prove that the eigenfunctions of the associated Laplace\\nBeltrami operator (with no boundary conditions) are the orthogonal polynomials\\nwith respect to the pluripotential equilibrium measure $\\\\mu_E$ of $E.$ We\\nconjecture that this may hold in a wider generality.\\nThe considered differential operators have been already introduced in the\\nframework of orthogonal polynomials and studied in connection with certain\\nsymmetry groups. In this work instead we highlight the relationships between\\northogonal polynomials with respect to $\\\\mu_E$ and the Riemaniann structure\\nnaturally arising from Pluripotential Theory\\n',\n",
       "  0.3820033669471741),\n",
       " 35: ('  We study the adjoint of the double layer potential associated with the\\nLaplacian (the adjoint of the Neumann-Poincaré operator), as a map on the\\nboundary surface $\\\\Gamma$ of a domain in $\\\\mathbb{R}^3$ with conical points.\\nThe spectrum of this operator directly reflects the well-posedness of related\\ntransmission problems across $\\\\Gamma$. In particular, if the domain is\\nunderstood as an inclusion with complex permittivity $\\\\epsilon$, embedded in a\\nbackground medium with unit permittivity, then the polarizability tensor of the\\ndomain is well-defined when $(\\\\epsilon+1)/(\\\\epsilon-1)$ belongs to the\\nresolvent set in energy norm. We study surfaces $\\\\Gamma$ that have a finite\\nnumber of conical points featuring rotational symmetry. On the energy space, we\\nshow that the essential spectrum consists of an interval. On $L^2(\\\\Gamma)$,\\ni.e. for square-integrable boundary data, we show that the essential spectrum\\nconsists of a countable union of curves, outside of which the Fredholm index\\ncan be computed as a winding number with respect to the essential spectrum. We\\nprovide explicit formulas, depending on the opening angles of the conical\\npoints. We reinforce our study with very precise numerical experiments,\\ncomputing the energy space spectrum and the spectral measures of the\\npolarizability tensor in two different examples. Our results indicate that the\\ndensities of the spectral measures may approach zero extremely rapidly in the\\ncontinuous part of the energy space spectrum.\\n',\n",
       "  0.381744384765625),\n",
       " 36: ('  Spherical Gauss-Laguerre (SGL) basis functions, i.e., normalized functions of\\nthe type $L_{n-l-1}^{(l + 1/2)}(r^2) r^{l} Y_{lm}(\\\\vartheta,\\\\varphi)$, $|m|\\n\\\\leq l < n \\\\in \\\\mathbb{N}$, constitute an orthonormal polynomial basis of the\\nspace $L^{2}$ on $\\\\mathbb{R}^{3}$ with radial Gaussian weight $\\\\exp(-r^{2})$.\\nWe have recently described reliable fast Fourier transforms for the SGL basis\\nfunctions. The main application of the SGL basis functions and our fast\\nalgorithms is in solving certain three-dimensional rigid matching problems,\\nwhere the center is prioritized over the periphery. For this purpose, so-called\\nSGL translation matrix elements are required, which describe the spectral\\nbehavior of the SGL basis functions under translations. In this paper, we\\nderive a closed-form expression of these translation matrix elements, allowing\\nfor a direct computation of these quantities in practice.\\n',\n",
       "  0.38162559270858765),\n",
       " 37: ('  Highly oscillatory integrals, such as those involving Bessel functions, are\\nbest evaluated analytically as much as possible, as numerical errors can be\\ndifficult to control. We investigate indefinite integrals involving monomials\\nin $x$ multiplying one or two spherical Bessel functions of the first kind\\n$j_l(x)$ with integer order $l$. Closed-form solutions are presented where\\npossible, and recursion relations are developed that are guaranteed to reduce\\nall integrals in this class to closed-form solutions. These results allow for\\ndefinite integrals over spherical Bessel functions to be computed quickly and\\naccurately. For completeness, we also present our results in terms of ordinary\\nBessel functions, but in general, the recursion relations do not terminate.\\n',\n",
       "  0.3803182542324066),\n",
       " 38: ('  We study the problem% \\\\[ -\\\\Delta v+\\\\lambda v=| v| ^{p-2}v\\\\text{ in }\\\\Omega\\n,\\\\text{\\\\qquad}v=0\\\\text{ on $\\\\partial\\\\Omega$},\\\\text{ }% \\\\] for\\n$\\\\lambda\\\\in\\\\mathbb{R}$ and supercritical exponents $p,$ in domains of the form%\\n\\\\[ \\\\Omega:=\\\\{(y,z)\\\\in\\\\mathbb{R}^{N-m-1}\\\\times\\\\mathbb{R}^{m+1}:(y,| z|\\n)\\\\in\\\\Theta\\\\}, \\\\] where $m\\\\geq1,$ $N-m\\\\geq3,$ and $\\\\Theta$ is a bounded domain\\nin $\\\\mathbb{R}% ^{N-m}$ whose closure is contained in\\n$\\\\mathbb{R}^{N-m-1}\\\\times(0,\\\\infty)$. Under some symmetry assumptions on\\n$\\\\Theta$, we show that this problem has infinitely many solutions for every\\n$\\\\lambda$ in an interval which contains $[0,\\\\infty)$ and $p>2$ up to some\\nnumber which is larger than the $(m+1)^{st}$ critical exponent\\n$2_{N,m}^{\\\\ast}:=\\\\frac{2(N-m)}{N-m-2}$. We also exhibit domains with a\\nshrinking hole, in which there are a positive and a nodal solution which\\nconcentrate on a sphere, developing a single layer that blows up at an\\n$m$-dimensional sphere contained in the boundary of $\\\\Omega,$ as the hole\\nshrinks and $p\\\\rightarrow2_{N,m}^{\\\\ast}$ from above. The limit profile of the\\npositive solution, in the transversal direction to the sphere of concentration,\\nis a rescaling of the standard bubble, whereas that of the nodal solution is a\\nrescaling of a nonradial sign-changing solution to the problem% \\\\[ -\\\\Delta u=|\\nu| ^{2_{n}^{\\\\ast}-2}u,\\\\text{\\\\qquad}u\\\\in D^{1,2}(\\\\mathbb{R}^{n}), \\\\] where\\n$2_{n}^{\\\\ast}:=\\\\frac{2n}{n-2}$ is the critical exponent in dimension\\n$n.$\\\\medskip\\n',\n",
       "  0.38020896911621094),\n",
       " 39: (\"  We introduce an integrated meshing and finite element method pipeline\\nenabling black-box solution of partial differential equations in the volume\\nenclosed by a boundary representation. We construct a hybrid\\nhexahedral-dominant mesh, which contains a small number of star-shaped\\npolyhedra, and build a set of high-order basis on its elements, combining\\ntriquadratic B-splines, triquadratic hexahedra (27 degrees of freedom), and\\nharmonic elements. We demonstrate that our approach converges cubically under\\nrefinement, while requiring around 50% of the degrees of freedom than a\\nsimilarly dense hexahedral mesh composed of triquadratic hexahedra. We validate\\nour approach solving Poisson's equation on a large collection of models, which\\nare automatically processed by our algorithm, only requiring the user to\\nprovide boundary conditions on their surface.\\n\",\n",
       "  0.38001590967178345),\n",
       " 40: ('  By using the Lyapunov-Schmidt reduction method without perturbation, we\\nconsider existence results for the conformal scalar curvature on S^n (n greater\\nor equal to 3) when the prescribed function (after being projected to R^n) has\\ntwo close critical points, which have the same value (positive), equal\\n\"flatness\" (twin, flatness < n - 2), and exhibit maximal behavior in certain\\ndirections (pseudo-peaks). The proof relies on a balance between the two main\\ncontributions to the reduced functional - one from the critical points and the\\nother from the interaction of the two bubbles.\\n',\n",
       "  0.37957102060317993),\n",
       " 41: ('  Based on properties of n-subharmonic functions we show that a complete,\\nnoncompact, properly embedded hypersurface with nonnegative Ricci curvature in\\nhyperbolic space has an asymptotic boundary at infinity of at most two points.\\nMoreover, the presence of two points in the asymptotic boundary is a rigidity\\ncondition that forces the hypersurface to be an equidistant hypersurface about\\na geodesic line in hyperbolic space. This gives an affirmative answer to the\\nquestion raised by Alexander and Currier in 1990.\\n',\n",
       "  0.3783780336380005),\n",
       " 42: ('  We present in this paper algorithms for solving stiff PDEs on the unit sphere\\nwith spectral accuracy in space and fourth-order accuracy in time. These are\\nbased on a variant of the double Fourier sphere method in coefficient space\\nwith multiplication matrices that differ from the usual ones, and\\nimplicit-explicit time-stepping schemes. Operating in coefficient space with\\nthese new matrices allows one to use a sparse direct solver, avoids the\\ncoordinate singularity and maintains smoothness at the poles, while\\nimplicit-explicit schemes circumvent severe restrictions on the time-steps due\\nto stiffness. A comparison is made against exponential integrators and it is\\nfound that implicit-explicit schemes perform best. Implementations in MATLAB\\nand Chebfun make it possible to compute the solution of many PDEs to high\\naccuracy in a very convenient fashion.\\n',\n",
       "  0.3772881329059601),\n",
       " 43: ('  We study Harmonic Soft Spheres as a model of thermal structural glasses in\\nthe limit of infinite dimensions. We show that cooling, compressing and\\nshearing a glass lead to a Gardner transition and, hence, to a marginally\\nstable amorphous solid as found for Hard Spheres systems. A general outcome of\\nour results is that a reduced stability of the glass favors the appearance of\\nthe Gardner transition. Therefore using strong perturbations, e.g. shear and\\ncompression, on standard glasses or using weak perturbations on weakly stable\\nglasses, e.g. the ones prepared close to the jamming point, are the generic\\nways to induce a Gardner transition. The formalism that we discuss allows to\\nstudy general perturbations, including strain deformations that are important\\nto study soft glassy rheology at the mean field level.\\n',\n",
       "  0.37692946195602417),\n",
       " 44: ('  This paper presents a thorough analysis of 1-dimensional Schroedinger\\noperators whose potential is a linear combination of the Coulomb term 1/r and\\nthe centrifugal term 1/r^2. We allow both coupling constants to be complex.\\nUsing natural boundary conditions at 0, a two parameter holomorphic family of\\nclosed operators is introduced. We call them the Whittaker operators, since in\\nthe mathematical literature their eigenvalue equation is called the Whittaker\\nequation. Spectral and scattering theory for Whittaker operators is studied.\\nWhittaker operators appear in quantum mechanics as the radial part of the\\nSchroedinger operator with a Coulomb potential.\\n',\n",
       "  0.37670648097991943),\n",
       " 45: (\"  In the 1950's Hopf gave examples of non-round convex 2-spheres in Euclidean\\n3-space with rotational symmetry that satisfy a linear relationship between\\ntheir principal curvatures. In this paper we investigate conditions under which\\nevolving a smooth rotationally symmetric sphere by a linear combination of its\\nradii of curvature yields a Hopf sphere. When the coefficients of the flow have\\ncertain integer values, the fate of an initial sphere is entirely determined by\\nthe local geometry of its isolated umbilic points. A surprising variety of\\nbehaviours is uncovered: convergence to round spheres and non-round Hopf\\nspheres, as well as divergence to infinity.\\nThe critical quantity is the rate of vanishing of the astigmatism - the\\ndifference of the radii of curvature - at the isolated umbilic points. It is\\nproven that the size of this quantity versus the coefficient in the flow\\nfunction determines the fate of the evolution.\\nThe geometric setting for the equation is Radius of Curvature space, viewed\\nas a pair of hyperbolic/AdS half-planes joined along their boundary, the\\numbilic horizon. A rotationally symmetric sphere determines a parameterized\\ncurve in this plane with end-points on the umbilic horizon. The slope of the\\ncurve at the umbilic horizon is linked by the Codazzi-Mainardi equations to the\\nrate of vanishing of astigmatism, and for generic initial conditions can be\\nused to determine the outcome of the flow.\\nThe slope can jump during the flow, and a number of examples are given:\\ninstant jumps of the initial slope, as well as umbilic circles that contract to\\npoints in finite time and 'pop' the slope. Finally, we present soliton-like\\nsolutions: curves that evolve under linear flows by mutual hyperbolic/AdS\\nisometries (dilation and translation) of Radius of Curvature space. A\\nforthcoming paper will apply these geometric ideas to non-linear curvature\\nflows.\\n\",\n",
       "  0.3750607371330261),\n",
       " 46: ('  In this paper we consider the phase retrieval problem for Herglotz functions,\\nthat is, solutions of the Helmholtz equation $\\\\Delta u+\\\\lambda^2u=0$ on domains\\n$\\\\Omega\\\\subset\\\\mathbb{R}^d$, $d\\\\geq2$. In dimension $d=2$, if $u,v$ are two\\nsuch solutions then $|u|=|v|$ implies that either $u=cv$ or $u=c\\\\bar v$ for\\nsome $c\\\\in\\\\mathbb{C}$ with $|c|=1$. In dimension $d\\\\geq3$, the same conclusion\\nholds under some restriction on $u$ and $v$: either they are real valued or\\nzonal functions or have non vanishing mean.\\n',\n",
       "  0.3744783401489258),\n",
       " 47: ('  We use group theoretic ideas and coset space methods to deal with problems in\\npolarization optics of a global nature. These include the possibility of a\\nglobally smooth phase convention for electric fields for all points on the\\nPoincaré sphere, and a similar possibility of real or complex bases of\\ntransverse electric vectors for all possible propagation directions. It is\\nshown that these methods help in understanding some known results in an\\neffective manner, and in answering new questions as well. We find that apart\\nfrom the groups $SU(2)$ and $SO(3)$ which occur naturally in these problems,\\nthe group $SU(3)$ also plays an important role.\\n',\n",
       "  0.3724605441093445),\n",
       " 48: ('  The elastic scattering cross sections for a slow electron by C2 and H2\\nmolecules have been calculated within the framework of the non-overlapping\\natomic potential model. For the amplitudes of the multiple electron scattering\\nby a target the wave function of the molecular continuum is represented as a\\ncombination of a plane wave and two spherical waves generated by the centers of\\natomic spheres. This wave function obeys the Huygens-Fresnel principle\\naccording to which the electron wave scattering by a system of two centers is\\naccompanied by generation of two spherical waves; their interaction creates a\\ndiffraction pattern far from the target. Each of the Huygens waves, in turn, is\\na superposition of the partial spherical waves with different orbital angular\\nmomenta l and their projections m. The amplitudes of these partial waves are\\ndefined by the corresponding phases of electron elastic scattering by an\\nisolated atomic potential. In numerical calculations the s- and p-phase shifts\\nare taken into account. So the number of interfering electron waves is equal to\\neight: two of which are the s-type waves and the remaining six waves are of the\\np-type with different m values. The calculation of the scattering amplitudes in\\nclosed form (rather than in the form of S-matrix expansion) is reduced to\\nsolving a system of eight inhomogeneous algebraic equations. The differential\\nand total cross sections of electron scattering by fixed-in-space molecules and\\nrandomly oriented ones have been calculated as well. We conclude by discussing\\nthe special features of the S-matrix method for the case of arbitrary\\nnon-spherical potentials.\\n',\n",
       "  0.3721494674682617),\n",
       " 49: (\"  In this article, we study the plasmonic resonance of infinite photonic\\ncrystal mounted by the double negative nanoparticles in two dimensions. The\\ncorresponding physical model is described by the Helmholz equation with so\\ncalled Bloch wave condition in a periodic domain. By using the quasi-periodic\\nlayer potential techniques and the spectral theorem of quasi-periodic\\nNeumann-Poincar{é} operator, the quasi-static expansion of the near field in\\nthe presence of nanoparticles is derived. Furthermore, when the magnetic\\npermeability of nanoparticles satisfies the Drude model, we give the conditions\\nunder which the plasmonic resonance occurs, and the rate of blow up of near\\nfield energy with respect to nanoparticle's bulk electron relaxation rate and\\nfilling factor are also obtained. It indicates that one can appropriately\\ncontrol the bulk electron relaxation rate or filling factor of nanoparticle in\\nphotonic crystal structure such that the near field energy attains its maximum,\\nand enhancing the efficiency of energy utilization.\\n\",\n",
       "  0.37187883257865906),\n",
       " 50: ('  This survey is a short version of a chapter written by the first two authors\\nin the book [A. Henrot, editor. Shape optimization and spectral theory. Berlin:\\nDe Gruyter, 2017] (where more details and references are given) but we have\\ndecided here to put more emphasis on the role of the Aharonov-Bohm operators\\nwhich appear to be a useful tool coming from physics for understanding a\\nproblem motivated either by spectral geometry or dynamics of population.\\nSimilar questions appear also in Bose-Einstein theory. Finally some open\\nproblems which might be of interest are mentioned.\\n',\n",
       "  0.3716573715209961),\n",
       " 51: ('  We study numerically the Bloch electron wavepacket dynamics in periodic\\npotentials to simulate laser-solid interactions. We introduce a new perspective\\nin the coordinate space combined with the motion of the Bloch electron\\nwavepackets moving at group and phase velocities under the laser fields. This\\nmodel interprets the origins of the two contributions (intra- and interband\\ntransitions) of the high-order harmonic generation (HHG) by investigating the\\nlocal and global behavior of the wavepackets. It also elucidates the underlying\\nphysical picture of the HHG intensity enhancement by means of carrier-envelope\\nphase (CEP), chirp and inhomogeneous fields. It provides a deep insight into\\nthe emission of high-order harmonics from solids. This model is instructive for\\nexperimental measurements and provides a new avenue to distinguish mechanisms\\nof the HHG from solids in diffrent laser fields.\\n',\n",
       "  0.3697793483734131),\n",
       " 52: ('  The appearance of a Nano-jet in the micro-sphere optical experiments is\\nanalyzed by relating this effect to non-diffracting Bessel beams. By inserting\\na circular aperture with a radius which is in the order of subwavelength in the\\nEM waist, and sending the transmitted light into a confocal microscope, EM\\nfluctuations by the different Bessel beams are avoided. On this constant EM\\nfield evanescent waves are superposed. While this effect improves the\\noptical-depth of the imaging process, the object fine-structures are obtained,\\nfrom the modulation of the EM fields by the evanescent waves. The use of a\\ncombination of the micro-sphere optical system with an interferometer for phase\\ncontrast measurements is described.\\n',\n",
       "  0.36953306198120117),\n",
       " 53: ('  New bispectral orthogonal polynomials are obtained from an unconventional\\ntruncation of the Askey-Wilson polynomials. In the limit $q \\\\to 1$, they reduce\\nto the para-Racah polynomials which are orthogonal with respect to a quadratic\\nbi-lattice. The three term recurrence relation and q-difference equation are\\nobtained through limits of those of the Askey-Wilson polynomials. An explicit\\nexpression in terms of hypergeometric series and the orthogonality relation are\\nprovided. A $q$-generalization of the para-Krawtchouk polynomials is obtained\\nas a special case. Connections with the $q$-Racah and dual-Hahn polynomials are\\nalso presented.\\n',\n",
       "  0.3684667646884918),\n",
       " 54: ('  We consider the Dirichlet Laplacian in a straight three dimensional waveguide\\nwith non-rotationally invariant cross section, perturbed by a twisting of small\\namplitude. It is well known that such a perturbation does not create\\neigenvalues below the essential spectrum. However, around the bottom of the\\nspectrum, we provide a meromorphic extension of the weighted resolvent of the\\nperturbed operator, and show the existence of exactly one resonance near this\\npoint. Moreover, we obtain the asymptotic behavior of this resonance as the\\nsize of the twisting goes to 0. We also extend the analysis to the upper\\neigenvalues of the transversal problem, showing that the number of resonances\\nis bounded by the multiplicity of the eigenvalue and obtaining the\\ncorresponding asymptotic behavior\\n',\n",
       "  0.3678560256958008),\n",
       " 55: ('  Negative index materials are artificial structures whose refractive index has\\nnegative value over some frequency range. The study of these materials has\\nattracted a lot of attention in the scientific community not only because of\\ntheir many potential interesting applications but also because of challenges in\\nunderstanding their intriguing properties due to the sign-changing coefficients\\nin equations describing their properties. In this paper, we establish cloaking\\nusing complementary media for electromagnetic waves. This confirms and extends\\nthe suggestions in two dimensions of Lai et al. for the full Maxwell equations.\\nThe analysis is based on the reflecting and removing localized singularity\\ntechniques, three-sphere inequalities, and the fact that the Maxwell equations\\ncan be reduced to a weakly coupled second order elliptic equations.\\n',\n",
       "  0.3676791191101074),\n",
       " 56: ('  Due to one of the most representative contributions to the energy in diatomic\\nmolecules being the vibrational, we consider the generalized Morse potential\\n(GMP) as one of the typical potential of interaction for one-dimensional\\nmicroscopic systems, which describes local anharmonic effects. From Eckart\\npotential (EP) model, it is possible to find a connection with the GMP model,\\nas well as obtain the analytical expression for the energy spectrum because it\\nis based on $S\\\\,O\\\\left(2,1\\\\right)$ algebras. In this work we find the\\nmacroscopic properties such as vibrational mean energy $U$, specific heat $C$,\\nHelmholtz free energy $F$ and entropy $S$ for a heteronuclear diatomic system,\\nalong with the exact partition function and its approximation for the high\\ntemperature region. Finally, we make a comparison between the graphs of some\\nthermodynamic functions obtained with the GMP and the Morse potential (MP) for\\n$H\\\\,Cl$ molecules.\\n',\n",
       "  0.3675200939178467),\n",
       " 57: ('  Couder and Fort discovered that droplets walking on a vibrating bath possess\\ncertain features previously thought to be exclusive to quantum systems. These\\nmillimetric droplets synchronize with their Faraday wavefield, creating a\\nmacroscopic pilot-wave system. In this paper we exploit the fact that the waves\\ngenerated are nearly monochromatic and propose a hydrodynamic model capable of\\nquantitatively capturing the interaction between bouncing drops and a variable\\ntopography. We show that our reduced model is able to reproduce some important\\nexperiments involving the drop-topography interaction, such as non-specular\\nreflection and single-slit diffraction.\\n',\n",
       "  0.3674190044403076),\n",
       " 58: ('  Customarily, in-plane auxeticity and synclastic bending behavior (i.e.\\nout-of-plane auxeticity) are not independent, being the latter a manifestation\\nof the former. Basically, this is a feature of three-dimensional bodies. At\\nvariance, two-dimensional bodies have more freedom to deform than\\nthree-dimensional ones. Here, we exploit this peculiarity and propose a\\ntwo-dimensional honeycomb structure with out-of-plane auxetic behavior opposite\\nto the in-plane one. With a suitable choice of the lattice constitutive\\nparameters, in its continuum description such a structure can achieve the whole\\nrange of values for the bending Poisson coefficient, while retaining a\\nmembranal Poisson coefficient equal to 1. In particular, this structure can\\nreach the extreme values, $-1$ and $+1$, of the bending Poisson coefficient.\\nAnalytical calculations are supported by numerical simulations, showing the\\naccuracy of the continuum formulas in predicting the response of the discrete\\nstructure.\\n',\n",
       "  0.36730480194091797),\n",
       " 59: ('  Convolutional Neural Networks (CNNs) have become the method of choice for\\nlearning problems involving 2D planar images. However, a number of problems of\\nrecent interest have created a demand for models that can analyze spherical\\nimages. Examples include omnidirectional vision for drones, robots, and\\nautonomous cars, molecular regression problems, and global weather and climate\\nmodelling. A naive application of convolutional networks to a planar projection\\nof the spherical signal is destined to fail, because the space-varying\\ndistortions introduced by such a projection will make translational weight\\nsharing ineffective.\\nIn this paper we introduce the building blocks for constructing spherical\\nCNNs. We propose a definition for the spherical cross-correlation that is both\\nexpressive and rotation-equivariant. The spherical correlation satisfies a\\ngeneralized Fourier theorem, which allows us to compute it efficiently using a\\ngeneralized (non-commutative) Fast Fourier Transform (FFT) algorithm. We\\ndemonstrate the computational efficiency, numerical accuracy, and effectiveness\\nof spherical CNNs applied to 3D model recognition and atomization energy\\nregression.\\n',\n",
       "  0.3669271171092987),\n",
       " 60: ('  We consider co-rotational wave maps from the $(1+d)$-dimensional Minkowski\\nspace into the $d$-sphere for $d\\\\geq 3$ odd. This is an energy-supercritical\\nmodel which is known to exhibit finite-time blowup via self-similar solutions.\\nBased on a method developed by the second author and Schörkhuber, we prove\\nthe asymptotic nonlinear stability of the \"ground-state\" self-similar solution.\\n',\n",
       "  0.36565101146698)}"
      ]
     },
     "execution_count": 13,
     "metadata": {},
     "output_type": "execute_result"
    }
   ],
   "source": [
    "results"
   ]
  },
  {
   "cell_type": "markdown",
   "id": "2e472fb0",
   "metadata": {},
   "source": [
    "#### the search returned 60 results in .26 second, which is fast and the first article with the highest score is the most relevant article."
   ]
  },
  {
   "cell_type": "markdown",
   "id": "dd94159d",
   "metadata": {},
   "source": [
    "## indexed search faiss"
   ]
  },
  {
   "cell_type": "code",
   "execution_count": 34,
   "id": "a3040f1b",
   "metadata": {},
   "outputs": [],
   "source": [
    "corpus_embedding_size  = corpus_embeddings.size()[1]\n",
    "# why i chose this method is because of dot product #### important\n",
    "quantizer = faiss.IndexFlatIP( corpus_embedding_size)\n",
    "\n",
    "#n_clusters a value 4*sqrt(N) to 16*sqrt(N)\n",
    "index = faiss.IndexIVFFlat(quantizer, corpus_embedding_size, 27, faiss.METRIC_INNER_PRODUCT)\n",
    "# The nprobe parameter is always a way of adjusting the tradeoff between speed and accuracy of the result. \n",
    "# Setting nprobe = nlist gives the same result as the brute-force search (but slower).\n",
    "# we can compare results on design time between searches from index VS direct search\n",
    "# on multiple samples to determine the best value\n",
    "index.nprobe = 3\n",
    "# normalize embeddings legnth\n",
    "corpus_embeddings_norm = corpus_embeddings / np.linalg.norm(corpus_embeddings, axis=1)[:, None]\n",
    "# Train index\n",
    "index.train(corpus_embeddings_norm)\n",
    "# add all embeddings to the index\n",
    "index.add(corpus_embeddings_norm)"
   ]
  },
  {
   "cell_type": "code",
   "execution_count": 40,
   "id": "45dbbd2e",
   "metadata": {},
   "outputs": [
    {
     "name": "stdout",
     "output_type": "stream",
     "text": [
      "0.04423093795776367\n"
     ]
    }
   ],
   "source": [
    "top_k_hits = 60\n",
    "start_time = time.time()\n",
    "for query in queries:\n",
    "    query_embedding_ind = embedder.encode(query, convert_to_tensor=True)\n",
    "    query_embedding_norm =  query_embedding_ind\n",
    "    query_embedding_norm =  query_embedding_ind / np.linalg.norm(query_embedding_ind)\n",
    "    query_embedding_norm = np.expand_dims(query_embedding_norm, axis=0)\n",
    "    distances, corpus_ids = index.search(query_embedding_norm, top_k_hits)\n",
    "hits = [{'corpus_id': id, 'score': score} for id, score in zip(corpus_ids[0], distances[0])]\n",
    "results = dict()\n",
    "dt = []\n",
    "for i in range(0, top_k_hits):\n",
    "    i = i+1\n",
    "    results[i] = (corpus_sentences[corpus_ids[0][i-1]], distances[0][i-1])\n",
    "    row = {'id': i, 'name':corpus_sentences[corpus_ids[0][i-1]] ,'cos_sim':distances[0][i-1]}\n",
    "    dt.append(row)\n",
    "results_df = pd.DataFrame(dt)\n",
    "end_time = time.time()\n",
    "scnd_method = end_time-start_time\n",
    "print(end_time-start_time)    "
   ]
  },
  {
   "cell_type": "code",
   "execution_count": 41,
   "id": "98e74fed",
   "metadata": {},
   "outputs": [
    {
     "data": {
      "text/html": [
       "<div>\n",
       "<style scoped>\n",
       "    .dataframe tbody tr th:only-of-type {\n",
       "        vertical-align: middle;\n",
       "    }\n",
       "\n",
       "    .dataframe tbody tr th {\n",
       "        vertical-align: top;\n",
       "    }\n",
       "\n",
       "    .dataframe thead th {\n",
       "        text-align: right;\n",
       "    }\n",
       "</style>\n",
       "<table border=\"1\" class=\"dataframe\">\n",
       "  <thead>\n",
       "    <tr style=\"text-align: right;\">\n",
       "      <th></th>\n",
       "      <th>id</th>\n",
       "      <th>name</th>\n",
       "      <th>cos_sim</th>\n",
       "    </tr>\n",
       "  </thead>\n",
       "  <tbody>\n",
       "    <tr>\n",
       "      <th>0</th>\n",
       "      <td>1</td>\n",
       "      <td>We introduce and develop the notion of spher...</td>\n",
       "      <td>0.710209</td>\n",
       "    </tr>\n",
       "    <tr>\n",
       "      <th>1</th>\n",
       "      <td>2</td>\n",
       "      <td>We present a family of mutually orthogonal p...</td>\n",
       "      <td>0.514587</td>\n",
       "    </tr>\n",
       "    <tr>\n",
       "      <th>2</th>\n",
       "      <td>3</td>\n",
       "      <td>In this paper we analyze the capacitary pote...</td>\n",
       "      <td>0.496128</td>\n",
       "    </tr>\n",
       "    <tr>\n",
       "      <th>3</th>\n",
       "      <td>4</td>\n",
       "      <td>In this article, a novel analytical approach...</td>\n",
       "      <td>0.483570</td>\n",
       "    </tr>\n",
       "    <tr>\n",
       "      <th>4</th>\n",
       "      <td>5</td>\n",
       "      <td>Stationary stellar systems with radially elo...</td>\n",
       "      <td>0.475785</td>\n",
       "    </tr>\n",
       "  </tbody>\n",
       "</table>\n",
       "</div>"
      ],
      "text/plain": [
       "   id                                               name   cos_sim\n",
       "0   1    We introduce and develop the notion of spher...  0.710209\n",
       "1   2    We present a family of mutually orthogonal p...  0.514587\n",
       "2   3    In this paper we analyze the capacitary pote...  0.496128\n",
       "3   4    In this article, a novel analytical approach...  0.483570\n",
       "4   5    Stationary stellar systems with radially elo...  0.475785"
      ]
     },
     "execution_count": 41,
     "metadata": {},
     "output_type": "execute_result"
    }
   ],
   "source": [
    "results_df.head()"
   ]
  },
  {
   "cell_type": "code",
   "execution_count": 43,
   "id": "0c51bd64",
   "metadata": {},
   "outputs": [
    {
     "data": {
      "text/plain": [
       "(60, 3)"
      ]
     },
     "execution_count": 43,
     "metadata": {},
     "output_type": "execute_result"
    }
   ],
   "source": [
    "results_df.shape"
   ]
  },
  {
   "cell_type": "markdown",
   "id": "3386274e",
   "metadata": {},
   "source": [
    "#### the index returned 60 results within .045 second which implies a much faster search with the same accuracy as the slow search."
   ]
  }
 ],
 "metadata": {
  "kernelspec": {
   "display_name": "Python 3 (ipykernel)",
   "language": "python",
   "name": "python3"
  },
  "language_info": {
   "codemirror_mode": {
    "name": "ipython",
    "version": 3
   },
   "file_extension": ".py",
   "mimetype": "text/x-python",
   "name": "python",
   "nbconvert_exporter": "python",
   "pygments_lexer": "ipython3",
   "version": "3.11.4"
  }
 },
 "nbformat": 4,
 "nbformat_minor": 5
}
